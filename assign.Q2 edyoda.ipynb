{
 "cells": [
  {
   "cell_type": "code",
   "execution_count": 1,
   "id": "93d9402c",
   "metadata": {},
   "outputs": [
    {
     "name": "stdout",
     "output_type": "stream",
     "text": [
      "adoydE"
     ]
    }
   ],
   "source": [
    "input_lst =\"Edyoda\"\n",
    "for i in range(len(input_lst)-1,-1,-1):\n",
    "    print(input_lst[i],end ='')"
   ]
  },
  {
   "cell_type": "code",
   "execution_count": null,
   "id": "23e4450d",
   "metadata": {},
   "outputs": [],
   "source": []
  }
 ],
 "metadata": {
  "kernelspec": {
   "display_name": "Python 3 (ipykernel)",
   "language": "python",
   "name": "python3"
  },
  "language_info": {
   "codemirror_mode": {
    "name": "ipython",
    "version": 3
   },
   "file_extension": ".py",
   "mimetype": "text/x-python",
   "name": "python",
   "nbconvert_exporter": "python",
   "pygments_lexer": "ipython3",
   "version": "3.11.3"
  }
 },
 "nbformat": 4,
 "nbformat_minor": 5
}
